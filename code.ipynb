{
 "cells": [
  {
   "cell_type": "markdown",
   "metadata": {},
   "source": [
    "Examen de Programación para ingreso a Maestría en Ciencia de Datos en la Unison\r\n",
    "by Gaspar Albetro Munguia Palma"
   ]
  },
  {
   "cell_type": "markdown",
   "metadata": {},
   "source": [
    "Imports"
   ]
  },
  {
   "cell_type": "code",
   "execution_count": 2,
   "metadata": {},
   "outputs": [],
   "source": [
    "import pandas as pd\r\n",
    "import matplotlib as mpl"
   ]
  },
  {
   "cell_type": "markdown",
   "metadata": {},
   "source": [
    "Lectura de base de datos"
   ]
  },
  {
   "cell_type": "code",
   "execution_count": 28,
   "metadata": {},
   "outputs": [],
   "source": [
    "#Quite el encoding para poder importar la base de datos, ya que no me agarraba\r\n",
    "df = pd.read_csv('covid-data/200511COVID19MEXICO.csv',encoding='unicode_escape')\r\n"
   ]
  },
  {
   "cell_type": "markdown",
   "metadata": {},
   "source": [
    "Queries para definir datos que vamos a sacar"
   ]
  },
  {
   "cell_type": "code",
   "execution_count": 29,
   "metadata": {},
   "outputs": [
    {
     "name": "stdout",
     "output_type": "stream",
     "text": [
      "       FECHA_ACTUALIZACION ID_REGISTRO  ORIGEN  SECTOR  ENTIDAD_UM  SEXO  \\\n",
      "335             2020-05-11      043561       2       4          26     2   \n",
      "956             2020-05-11      1999a7       2       4          26     2   \n",
      "1045            2020-05-11      1e70bd       2       4          26     2   \n",
      "1160            2020-05-11      07b5a7       2       4          26     1   \n",
      "1288            2020-05-11      1b9ce4       2       4          26     1   \n",
      "...                    ...         ...     ...     ...         ...   ...   \n",
      "135039          2020-05-11      122c12       1      12          26     1   \n",
      "135046          2020-05-11      1b27f2       1      12          26     2   \n",
      "135047          2020-05-11      0f5a94       1      12          26     2   \n",
      "135068          2020-05-11      1bd464       1      12          26     2   \n",
      "135069          2020-05-11      1e4798       1      12          26     2   \n",
      "\n",
      "        ENTIDAD_NAC  ENTIDAD_RES  MUNICIPIO_RES  TIPO_PACIENTE  ...  \\\n",
      "335              26           26             55              1  ...   \n",
      "956              26           26             55              1  ...   \n",
      "1045             25           26             55              1  ...   \n",
      "1160             26           26              2              2  ...   \n",
      "1288             26           26             33              1  ...   \n",
      "...             ...          ...            ...            ...  ...   \n",
      "135039           26           26             43              1  ...   \n",
      "135046           26           26             30              1  ...   \n",
      "135047            1           26             30              1  ...   \n",
      "135068            7           26             30              1  ...   \n",
      "135069           12           26             43              1  ...   \n",
      "\n",
      "       CARDIOVASCULAR OBESIDAD RENAL_CRONICA  TABAQUISMO  OTRO_CASO  \\\n",
      "335                 2        2             2           2         99   \n",
      "956                 2        2             2           1         99   \n",
      "1045                2        2             2           2         99   \n",
      "1160                2        1             2           2         99   \n",
      "1288                2        1             2           2         99   \n",
      "...               ...      ...           ...         ...        ...   \n",
      "135039              2        2             2           2          1   \n",
      "135046              2        2             2           2          2   \n",
      "135047              2        2             2           2          2   \n",
      "135068              2        2             2           2          2   \n",
      "135069              2        2             2           2          2   \n",
      "\n",
      "        RESULTADO  MIGRANTE  PAIS_NACIONALIDAD  PAIS_ORIGEN  UCI  \n",
      "335             1        99            MÃ©xico           99   97  \n",
      "956             1        99            MÃ©xico           99   97  \n",
      "1045            1        99            MÃ©xico           99   97  \n",
      "1160            1        99            MÃ©xico           99    2  \n",
      "1288            1        99            MÃ©xico           99   97  \n",
      "...           ...       ...                ...          ...  ...  \n",
      "135039          3        99            MÃ©xico           99   97  \n",
      "135046          3        99            MÃ©xico           99   97  \n",
      "135047          3        99            MÃ©xico           99   97  \n",
      "135068          3        99            MÃ©xico           99   97  \n",
      "135069          3        99            MÃ©xico           99   97  \n",
      "\n",
      "[2174 rows x 35 columns]\n"
     ]
    }
   ],
   "source": [
    "df_sonora = df.query('ENTIDAD_UM==26')\r\n",
    "print(df_sonora)\r\n"
   ]
  },
  {
   "cell_type": "markdown",
   "metadata": {},
   "source": [
    "Workplace"
   ]
  },
  {
   "cell_type": "code",
   "execution_count": 37,
   "metadata": {},
   "outputs": [],
   "source": [
    "df1 = df_sonora[['FECHA_ACTUALIZACION','FECHA_SINTOMAS','FECHA_DEF']]\r\n",
    "df1.set_axis(['Fecha_Actualización', 'Fecha_Sintomas','Fecha_Defuncion'],axis=1)\r\n",
    "df1.to_csv('tabla1.csv')\r\n"
   ]
  }
 ],
 "metadata": {
  "kernelspec": {
   "display_name": "Python 3.8.5 64-bit ('LAP': virtualenv)",
   "name": "python385jvsc74a57bd033a8defb97d3f372bf877472d8c97cddb1b04217ad31efcd8b35961ac03a74e4"
  },
  "language_info": {
   "codemirror_mode": {
    "name": "ipython",
    "version": 3
   },
   "file_extension": ".py",
   "mimetype": "text/x-python",
   "name": "python",
   "nbconvert_exporter": "python",
   "pygments_lexer": "ipython3",
   "version": "3.8.5"
  },
  "orig_nbformat": 2
 },
 "nbformat": 4,
 "nbformat_minor": 2
}